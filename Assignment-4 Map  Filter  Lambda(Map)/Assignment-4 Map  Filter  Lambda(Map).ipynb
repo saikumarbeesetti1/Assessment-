{
 "cells": [
  {
   "cell_type": "code",
   "execution_count": null,
   "id": "3a1614f5",
   "metadata": {},
   "outputs": [],
   "source": [
    "Write a Python program to triple all numbers of a given list of integers. Use Python map.\n",
    "\n",
    "\n",
    "\n",
    "sample list: [1, 2, 3, 4, 5, 6, 7]\n",
    "\n",
    "\n",
    "\n",
    "Triple of list numbers:\n",
    "\n",
    "[3, 6, 9, 12, 15, 18, 21]"
   ]
  },
  {
   "cell_type": "markdown",
   "id": "aff19b86",
   "metadata": {},
   "source": [
    "## `Taking User Input`"
   ]
  },
  {
   "cell_type": "code",
   "execution_count": 5,
   "id": "9c13ba0f",
   "metadata": {},
   "outputs": [
    {
     "name": "stdout",
     "output_type": "stream",
     "text": [
      "Enter a input to create a list: 7\n",
      "Enter a element : 1\n",
      "Enter a element : 2\n",
      "Enter a element : 3\n",
      "Enter a element : 4\n",
      "Enter a element : 5\n",
      "Enter a element : 6\n",
      "Enter a element : 7\n",
      "List input has been given by you is :  [1, 2, 3, 4, 5, 6, 7]\n",
      "Triple of list numbers are : [3, 6, 9, 12, 15, 18, 21]\n"
     ]
    }
   ],
   "source": [
    "l = []\n",
    "for value in range(int(input(\"Enter a input to create a list: \"))):\n",
    "    num1 = int(input(\"Enter a element : \"))\n",
    "    l.append((num1))\n",
    "print(\"List input has been given by you is : \",l) \n",
    "    \n",
    "l1=list(map(lambda a : a+a+a,l))\n",
    "print(\"Triple of list numbers are :\",l1)"
   ]
  },
  {
   "cell_type": "code",
   "execution_count": null,
   "id": "50a7526f",
   "metadata": {},
   "outputs": [],
   "source": []
  },
  {
   "cell_type": "markdown",
   "id": "2782250c",
   "metadata": {},
   "source": [
    "## `Anoter Way`"
   ]
  },
  {
   "cell_type": "code",
   "execution_count": 6,
   "id": "7d234d67",
   "metadata": {},
   "outputs": [
    {
     "name": "stdout",
     "output_type": "stream",
     "text": [
      "[3, 6, 9, 12, 15, 18, 21]\n"
     ]
    }
   ],
   "source": [
    "l=[1, 2, 3, 4, 5, 6, 7]\n",
    "l1=list(map(lambda a : a+a+a,l))\n",
    "print(l1)"
   ]
  }
 ],
 "metadata": {
  "kernelspec": {
   "display_name": "Python 3 (ipykernel)",
   "language": "python",
   "name": "python3"
  },
  "language_info": {
   "codemirror_mode": {
    "name": "ipython",
    "version": 3
   },
   "file_extension": ".py",
   "mimetype": "text/x-python",
   "name": "python",
   "nbconvert_exporter": "python",
   "pygments_lexer": "ipython3",
   "version": "3.10.2"
  }
 },
 "nbformat": 4,
 "nbformat_minor": 5
}
