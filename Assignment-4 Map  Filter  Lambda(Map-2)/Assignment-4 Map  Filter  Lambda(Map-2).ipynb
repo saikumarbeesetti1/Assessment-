{
 "cells": [
  {
   "cell_type": "code",
   "execution_count": null,
   "id": "017fe01b",
   "metadata": {},
   "outputs": [],
   "source": [
    "Write a Python program to square the elements of a list using map() function.\n",
    "\n",
    "\n",
    "\n",
    "Sample List: [4, 5, 2, 9]\n",
    "\n",
    "Square the elements of the list:\n",
    "\n",
    "[16, 25, 4, 81]\n",
    "\n"
   ]
  },
  {
   "cell_type": "code",
   "execution_count": null,
   "id": "debf8cea",
   "metadata": {},
   "outputs": [],
   "source": []
  },
  {
   "cell_type": "markdown",
   "id": "8f158185",
   "metadata": {},
   "source": [
    "## `Taking Input from the User`"
   ]
  },
  {
   "cell_type": "code",
   "execution_count": 2,
   "id": "6096aaba",
   "metadata": {},
   "outputs": [
    {
     "name": "stdout",
     "output_type": "stream",
     "text": [
      "Enter a input to create a list: 4\n",
      "Enter a element : 4\n",
      "Enter a element : 5\n",
      "Enter a element : 2\n",
      "Enter a element : 9\n",
      "List input has been given by you is :  [4, 5, 2, 9]\n",
      "Square the elements of the list :  [16, 25, 4, 81]\n"
     ]
    }
   ],
   "source": [
    "l = []\n",
    "for value in range(int(input(\"Enter a input to create a list: \"))):\n",
    "    num1 = int(input(\"Enter a element : \"))\n",
    "    l.append((num1))\n",
    "print(\"List input has been given by you is : \",l) \n",
    "\n",
    "a1 = list(map(lambda a : a**2,l))\n",
    "print(\"Square the elements of the list : \",a1)"
   ]
  },
  {
   "cell_type": "code",
   "execution_count": null,
   "id": "b4c2c877",
   "metadata": {},
   "outputs": [],
   "source": []
  },
  {
   "cell_type": "markdown",
   "id": "4ebe4b4f",
   "metadata": {},
   "source": [
    "## `Anoter Way`"
   ]
  },
  {
   "cell_type": "code",
   "execution_count": 5,
   "id": "3f39df10",
   "metadata": {},
   "outputs": [
    {
     "name": "stdout",
     "output_type": "stream",
     "text": [
      "Square the elements of the list :  [16, 25, 4, 81]\n"
     ]
    }
   ],
   "source": [
    "l = [4, 5, 2, 9]\n",
    "a1 = list(map(lambda a : a**2,l))\n",
    "print(\"Square the elements of the list : \",a1)"
   ]
  },
  {
   "cell_type": "code",
   "execution_count": null,
   "id": "db0b31af",
   "metadata": {},
   "outputs": [],
   "source": []
  }
 ],
 "metadata": {
  "kernelspec": {
   "display_name": "Python 3 (ipykernel)",
   "language": "python",
   "name": "python3"
  },
  "language_info": {
   "codemirror_mode": {
    "name": "ipython",
    "version": 3
   },
   "file_extension": ".py",
   "mimetype": "text/x-python",
   "name": "python",
   "nbconvert_exporter": "python",
   "pygments_lexer": "ipython3",
   "version": "3.10.2"
  }
 },
 "nbformat": 4,
 "nbformat_minor": 5
}
