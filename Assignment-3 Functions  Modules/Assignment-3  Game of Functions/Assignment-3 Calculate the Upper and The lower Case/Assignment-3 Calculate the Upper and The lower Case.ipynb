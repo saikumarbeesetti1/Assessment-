{
 "cells": [
  {
   "cell_type": "code",
   "execution_count": null,
   "id": "a328e4c4",
   "metadata": {},
   "outputs": [],
   "source": []
  },
  {
   "cell_type": "markdown",
   "id": "2fd4bdc7",
   "metadata": {},
   "source": [
    "`Taking input from the user`"
   ]
  },
  {
   "cell_type": "code",
   "execution_count": 6,
   "id": "0dcc95ec",
   "metadata": {},
   "outputs": [
    {
     "name": "stdout",
     "output_type": "stream",
     "text": [
      "Enter a character: Edyoda Digital University\n",
      "Entered characters is  :  Edyoda Digital University\n",
      "Number of Upper case characters :  3\n",
      "Number of Lower case Characters :  20\n"
     ]
    }
   ],
   "source": [
    "n=input(\"Enter a character: \")\n",
    "def string_test(c):\n",
    "    a={\"UPPER_CASE\":0, \"LOWER_CASE\":0}\n",
    "    for b in c:\n",
    "        if b.isupper():\n",
    "           a[\"UPPER_CASE\"]+=1\n",
    "        elif b.islower():\n",
    "           a[\"LOWER_CASE\"]+=1\n",
    "        else:\n",
    "           pass\n",
    "    print (\"Entered characters is  : \", c)\n",
    "    print (\"Number of Upper case characters : \", a[\"UPPER_CASE\"])\n",
    "    print (\"Number of Lower case Characters : \", a[\"LOWER_CASE\"])\n",
    "\n",
    "string_test(n)"
   ]
  },
  {
   "cell_type": "markdown",
   "id": "5d553ad4",
   "metadata": {},
   "source": [
    "`Another Way`"
   ]
  },
  {
   "cell_type": "code",
   "execution_count": 5,
   "id": "b1ed5edc",
   "metadata": {},
   "outputs": [
    {
     "name": "stdout",
     "output_type": "stream",
     "text": [
      "Entered characters is  :  Edyoda Digital University\n",
      "Number of Upper case characters :  3\n",
      "Number of Lower case Characters :  20\n"
     ]
    }
   ],
   "source": [
    "def string_test(c):\n",
    "    a={\"UPPER_CASE\":0, \"LOWER_CASE\":0}\n",
    "    for b in c:\n",
    "        if b.isupper():\n",
    "           a[\"UPPER_CASE\"]+=1\n",
    "        elif b.islower():\n",
    "           a[\"LOWER_CASE\"]+=1\n",
    "        else:\n",
    "           pass\n",
    "    print (\"Entered characters is  : \", c)\n",
    "    print (\"Number of Upper case characters : \", a[\"UPPER_CASE\"])\n",
    "    print (\"Number of Lower case Characters : \", a[\"LOWER_CASE\"])\n",
    "\n",
    "string_test('Edyoda Digital University')"
   ]
  },
  {
   "cell_type": "code",
   "execution_count": null,
   "id": "190031d1",
   "metadata": {},
   "outputs": [],
   "source": []
  },
  {
   "cell_type": "code",
   "execution_count": null,
   "id": "b62a0c56",
   "metadata": {},
   "outputs": [],
   "source": []
  }
 ],
 "metadata": {
  "kernelspec": {
   "display_name": "Python 3 (ipykernel)",
   "language": "python",
   "name": "python3"
  },
  "language_info": {
   "codemirror_mode": {
    "name": "ipython",
    "version": 3
   },
   "file_extension": ".py",
   "mimetype": "text/x-python",
   "name": "python",
   "nbconvert_exporter": "python",
   "pygments_lexer": "ipython3",
   "version": "3.10.2"
  }
 },
 "nbformat": 4,
 "nbformat_minor": 5
}
