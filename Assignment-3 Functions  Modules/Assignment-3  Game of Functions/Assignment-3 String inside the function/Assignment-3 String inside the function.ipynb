{
 "cells": [
  {
   "cell_type": "code",
   "execution_count": null,
   "id": "08e1ecfb",
   "metadata": {},
   "outputs": [],
   "source": [
    "Write a Python program to reverse a string.\n",
    "\n",
    "\n",
    "\n",
    "﻿Sample String : \"1234abcd\"\n",
    "\n",
    "Expected Output : \"dcba4321\""
   ]
  },
  {
   "cell_type": "markdown",
   "id": "c7ab3e3a",
   "metadata": {},
   "source": [
    "`Taking input from the user`"
   ]
  },
  {
   "cell_type": "code",
   "execution_count": 6,
   "id": "fa1bbb73",
   "metadata": {},
   "outputs": [
    {
     "name": "stdout",
     "output_type": "stream",
     "text": [
      "Enter a character: Edyoda123\n",
      "321adoydE\n"
     ]
    }
   ],
   "source": [
    "n =(input(\"Enter a character: \"))\n",
    "\n",
    "def string_reverse(string_1):\n",
    "    reverse_string_1 = ''\n",
    "    index = len(string_1)\n",
    "    while index > 0:\n",
    "        reverse_string_1+= string_1[ index - 1 ]\n",
    "        index = index - 1\n",
    "    return reverse_string_1\n",
    "print(string_reverse(n))"
   ]
  },
  {
   "cell_type": "markdown",
   "id": "5eafdcd0",
   "metadata": {},
   "source": [
    "`Another Way`"
   ]
  },
  {
   "cell_type": "code",
   "execution_count": 7,
   "id": "ec4b08e3",
   "metadata": {},
   "outputs": [
    {
     "name": "stdout",
     "output_type": "stream",
     "text": [
      "dcba4321\n"
     ]
    }
   ],
   "source": [
    "def string_reverse(string_1):\n",
    "\n",
    "    reverse_string_1 = ''\n",
    "    index = len(string_1)\n",
    "    while index > 0:\n",
    "        reverse_string_1+= string_1[ index - 1 ]\n",
    "        index = index - 1\n",
    "    return reverse_string_1\n",
    "print(string_reverse('1234abcd'))\n",
    "    "
   ]
  },
  {
   "cell_type": "code",
   "execution_count": null,
   "id": "bc1b2a5f",
   "metadata": {},
   "outputs": [],
   "source": []
  }
 ],
 "metadata": {
  "kernelspec": {
   "display_name": "Python 3 (ipykernel)",
   "language": "python",
   "name": "python3"
  },
  "language_info": {
   "codemirror_mode": {
    "name": "ipython",
    "version": 3
   },
   "file_extension": ".py",
   "mimetype": "text/x-python",
   "name": "python",
   "nbconvert_exporter": "python",
   "pygments_lexer": "ipython3",
   "version": "3.10.2"
  }
 },
 "nbformat": 4,
 "nbformat_minor": 5
}
