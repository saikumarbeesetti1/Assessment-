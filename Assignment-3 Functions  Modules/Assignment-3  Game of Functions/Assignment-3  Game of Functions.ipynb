{
 "cells": [
  {
   "cell_type": "code",
   "execution_count": null,
   "id": "35b63f0d",
   "metadata": {},
   "outputs": [],
   "source": [
    "Write a Python function to sum all the numbers in a list.\n",
    "\n",
    "\n",
    "\n",
    "Sample List : (8, 2, 3, 0, 7)\n",
    "\n",
    "Expected Output : 20\n",
    "\n",
    "\n",
    "\n",
    "Explanation:\n",
    "\n",
    "\n",
    "\n",
    "Summation should like 8+2+3+0+7 = 20"
   ]
  },
  {
   "cell_type": "markdown",
   "id": "49e9ed51",
   "metadata": {},
   "source": [
    "`Taking input from the user`"
   ]
  },
  {
   "cell_type": "code",
   "execution_count": 20,
   "id": "983e34ef",
   "metadata": {},
   "outputs": [
    {
     "name": "stdout",
     "output_type": "stream",
     "text": [
      "Enter a input to create a list: 5\n",
      "Enter a element : 5\n",
      "Enter a element : 2\n",
      "Enter a element : 3\n",
      "Enter a element : 6\n",
      "Enter a element : 4\n",
      "List input has been given by you is :  [5, 2, 3, 6, 4]\n",
      "20\n"
     ]
    }
   ],
   "source": [
    "l = []\n",
    "for value in range(int(input(\"Enter a input to create a list: \"))):\n",
    "    num1 = int(input(\"Enter a element : \"))\n",
    "    l.append((num1))\n",
    "print(\"List input has been given by you is : \",l) \n",
    "\n",
    "\n",
    "list=l\n",
    "\n",
    "def sum_list(items):\n",
    "    sum_numbers = 0\n",
    "    for i in items:\n",
    "        sum_numbers += i\n",
    "    return sum_numbers\n",
    "print(sum_list(l))\n",
    "\n"
   ]
  },
  {
   "cell_type": "markdown",
   "id": "6271bedc",
   "metadata": {},
   "source": [
    "`Another way`"
   ]
  },
  {
   "cell_type": "code",
   "execution_count": 21,
   "id": "e6d8815e",
   "metadata": {},
   "outputs": [
    {
     "name": "stdout",
     "output_type": "stream",
     "text": [
      "20\n"
     ]
    }
   ],
   "source": [
    "l=(8, 2, 3, 0, 7)\n",
    "def sum_list(items):\n",
    "    sum_numbers = 0\n",
    "    for i in items:\n",
    "        sum_numbers += i\n",
    "    return sum_numbers\n",
    "print(sum_list(l))"
   ]
  },
  {
   "cell_type": "code",
   "execution_count": null,
   "id": "1aa0958d",
   "metadata": {},
   "outputs": [],
   "source": []
  }
 ],
 "metadata": {
  "kernelspec": {
   "display_name": "Python 3 (ipykernel)",
   "language": "python",
   "name": "python3"
  },
  "language_info": {
   "codemirror_mode": {
    "name": "ipython",
    "version": 3
   },
   "file_extension": ".py",
   "mimetype": "text/x-python",
   "name": "python",
   "nbconvert_exporter": "python",
   "pygments_lexer": "ipython3",
   "version": "3.10.2"
  }
 },
 "nbformat": 4,
 "nbformat_minor": 5
}
