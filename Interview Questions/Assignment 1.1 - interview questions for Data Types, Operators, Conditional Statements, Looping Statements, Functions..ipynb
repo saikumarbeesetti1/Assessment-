{
 "cells": [
  {
   "cell_type": "code",
   "execution_count": null,
   "id": "c3004be9",
   "metadata": {},
   "outputs": [],
   "source": [
    "Find and read 20 interview questions for Data Types, Operators, Conditional Statements, Looping Statements, Functions.\n",
    "\n"
   ]
  },
  {
   "cell_type": "markdown",
   "id": "b1a0bc91",
   "metadata": {},
   "source": [
    "## `Questions and Answers for Data Types.`"
   ]
  },
  {
   "cell_type": "code",
   "execution_count": null,
   "id": "c58383b7",
   "metadata": {},
   "outputs": [],
   "source": [
    "Q1) What are Data Types?.\n",
    "Ans:A data type is a set of values and a set of operations defined on data. An implementation of a data type is \n",
    "    an expression of data and operations in terms of a specific programming language   "
   ]
  },
  {
   "cell_type": "code",
   "execution_count": null,
   "id": "52b518ee",
   "metadata": {},
   "outputs": [],
   "source": [
    "Q2) Name four of the main data types in Python?.\n",
    "Ans:Numbers, strings, lists, dictionaries, tuples, files, and sets are generally considered the main types of data.\n",
    "    "
   ]
  },
  {
   "cell_type": "code",
   "execution_count": null,
   "id": "ff5fb045",
   "metadata": {},
   "outputs": [],
   "source": [
    "Q3) What does immutable mean and what three types of Python core data types are considered immutable?.\n",
    "Ans:An immutable data type is a type of object which cannot be modified after its creation.\n",
    "     and three types of python core data types are Numbers, strings, and tuples"
   ]
  },
  {
   "cell_type": "code",
   "execution_count": null,
   "id": "72451e62",
   "metadata": {},
   "outputs": [],
   "source": [
    "Q4) What does sequence mean and which three types of data fall into this category?.\n",
    "Ans:A sequence data type is a collection of objects ordered by a specific position.\n",
    "    In Python, Strings, lists, and tuples are the data types based on sequences.\n",
    "    \n",
    "    The Sequences share common sequence operations, such as indexing, concatenation, \n",
    "    and slicing, but also have type-specific method calls."
   ]
  },
  {
   "cell_type": "code",
   "execution_count": null,
   "id": "3d360702",
   "metadata": {},
   "outputs": [],
   "source": []
  },
  {
   "cell_type": "markdown",
   "id": "540d2a4a",
   "metadata": {},
   "source": [
    "## `Questions and Answers for Operators.`"
   ]
  },
  {
   "cell_type": "code",
   "execution_count": null,
   "id": "28c1a20a",
   "metadata": {},
   "outputs": [],
   "source": [
    "Q1) Which operator is used to find quotient only?.\n",
    "Ans:The division operator / computes the quotient (either between float or integer variables)."
   ]
  },
  {
   "cell_type": "code",
   "execution_count": null,
   "id": "597dc72c",
   "metadata": {},
   "outputs": [],
   "source": [
    "Q2) Why are comparison operators used in Python?.\n",
    "Ans: A comparison operator in python, also called python relational operator, compares the values of two operands \n",
    "     and returns True or False based on whether the condition is met.\n",
    "    "
   ]
  },
  {
   "cell_type": "code",
   "execution_count": null,
   "id": "fffe206d",
   "metadata": {},
   "outputs": [],
   "source": [
    "Q3) What does the percent operator do in Python?\n",
    "Ans:The % symbol in Python is called the Modulo Operator. It returns the remainder of dividing the left hand operand \n",
    "    by right hand operand. It's used to get the remainder of a division problem."
   ]
  },
  {
   "cell_type": "code",
   "execution_count": null,
   "id": "8f4abc09",
   "metadata": {},
   "outputs": [],
   "source": [
    "Q4) What are the 7 operators in Python?.\n",
    "Ans:* Arithmetic Operator.\n",
    "    * Relational Operator.\n",
    "    * Assignment Operator.\n",
    "    * Logical Operator.\n",
    "    * Membership Operator.\n",
    "    * Identity Operator.\n",
    "    * Bitwise Operator."
   ]
  },
  {
   "cell_type": "code",
   "execution_count": null,
   "id": "d0f1e4c9",
   "metadata": {},
   "outputs": [],
   "source": []
  },
  {
   "cell_type": "markdown",
   "id": "4197fe0d",
   "metadata": {},
   "source": [
    "## `Questions and Answers for Conditional Statements.`"
   ]
  },
  {
   "cell_type": "code",
   "execution_count": null,
   "id": "b46f460a",
   "metadata": {},
   "outputs": [],
   "source": [
    "Q1) How many if statements can you nest in Python?.\n",
    "Ans:There are two main ways to make a nested if statement. \n",
    "    The first option is to put the if statement inside an if code block. \n",
    "    \n",
    "    The other option is to place the if statement in the else code of an if/else statement. \n",
    "    Python evaluates this nested if statement when the condition of the preceding if statement is True "
   ]
  },
  {
   "cell_type": "code",
   "execution_count": null,
   "id": "de52606e",
   "metadata": {},
   "outputs": [],
   "source": [
    "Q2) What is the importance of conditional statements in programming?.\n",
    "Ans:conditions can be used by the programmers and software engineers to allow a machine to simulate the behavior of a \n",
    "    person who has the ability to make choices and perform some actions based on the decision taken."
   ]
  },
  {
   "cell_type": "code",
   "execution_count": null,
   "id": "ffe0c8b5",
   "metadata": {},
   "outputs": [],
   "source": [
    "Q3) How is if statement different from if else statement in Python?\n",
    "Ans:An if…else Python statement checks whether a condition is true. If a condition is true, the if statement executes. \n",
    "    Otherwise, the else statement executes. So far, we have used an if statement to test for whether a particular condition\n",
    "    is met."
   ]
  },
  {
   "cell_type": "code",
   "execution_count": null,
   "id": "792010a8",
   "metadata": {},
   "outputs": [],
   "source": [
    "Q4) Can you put an if statement inside an if statement Python?.\n",
    "Ans:Yes, Python allows us to nest if statements within if statements. \n",
    "    i.e, we can place an if statement inside another if statement."
   ]
  },
  {
   "cell_type": "code",
   "execution_count": null,
   "id": "1c4decd6",
   "metadata": {},
   "outputs": [],
   "source": []
  },
  {
   "cell_type": "markdown",
   "id": "5ee9812c",
   "metadata": {},
   "source": [
    "## `Questions and Answers for Looping Statements.`"
   ]
  },
  {
   "cell_type": "code",
   "execution_count": null,
   "id": "db1dfbbb",
   "metadata": {},
   "outputs": [],
   "source": [
    "Q1) What is the purpose of looping in Python?.\n",
    "Ans:In python, while loop is used to execute a block of statements repeatedly until a given condition is satisfied. \n",
    "    And when the condition becomes false, the line immediately after the loop in the program is executed."
   ]
  },
  {
   "cell_type": "code",
   "execution_count": null,
   "id": "8bb0f524",
   "metadata": {},
   "outputs": [],
   "source": [
    "Q2) Which statement is used to stop a loop?.\n",
    "Ans:Break statement\n",
    "                The purpose the break statement is to break out of a loop early. \n",
    "                For example if the following code asks a use input a integer number x. If x is divisible by 5, \n",
    "                the break statement is executed and this causes the exit from the loop."
   ]
  },
  {
   "cell_type": "code",
   "execution_count": null,
   "id": "44b0db87",
   "metadata": {},
   "outputs": [],
   "source": [
    "Q3) Why are looping structures necessary?.\n",
    "Ans:Definition: Loops are a programming element that repeat a portion of code a set number of times until the \n",
    "    desired process is complete. Repetitive tasks are common in programming, and loops are essential to save time \n",
    "    and minimize errors."
   ]
  },
  {
   "cell_type": "code",
   "execution_count": null,
   "id": "ac3c25e9",
   "metadata": {},
   "outputs": [],
   "source": [
    "Q4) What is the difference between for loop and while loop?\n",
    "Ans:The difference between for loop and while loop:\n",
    "    * In for loop the number of iterations to be done is already known and is used to obtain a certain result. \n",
    "    * whereas in while loop the command runs until a certain condition is reached and the statement is proved to be false."
   ]
  },
  {
   "cell_type": "code",
   "execution_count": null,
   "id": "2f2df00c",
   "metadata": {},
   "outputs": [],
   "source": []
  },
  {
   "cell_type": "markdown",
   "id": "30527868",
   "metadata": {},
   "source": [
    "## `Questions and Answers for Functions.`"
   ]
  },
  {
   "cell_type": "code",
   "execution_count": null,
   "id": "eab450e5",
   "metadata": {},
   "outputs": [],
   "source": [
    "Q1) What are the two main types of functions in Python?.\n",
    "Ans:There are two basic types of functions: built-in functions and user defined functions. The built-in functions are \n",
    "    part of the Python language; for instance dir , len , or abs . The user defined functions are functions created with \n",
    "    the def keyword."
   ]
  },
  {
   "cell_type": "code",
   "execution_count": null,
   "id": "3f8400e3",
   "metadata": {},
   "outputs": [],
   "source": [
    "Q2)Can you define a function within a function Python?\n",
    "Ans:If you define a function inside another function, then you're creating an inner function, also known as a \n",
    "    nested function. In Python, inner functions have direct access to the variables and names that you define in \n",
    "    the enclosing function."
   ]
  },
  {
   "cell_type": "code",
   "execution_count": null,
   "id": "1b90bac7",
   "metadata": {},
   "outputs": [],
   "source": [
    "Q3) Why do we need functions in Python?\n",
    "Ans:Functions can be called anywhere in a Python program, including calling functions within other functions. \n",
    "    Functions provide a couple of benefits: Functions allow the same piece of code to run multiple times. \n",
    "    Functions break long programs up into smaller components."
   ]
  },
  {
   "cell_type": "code",
   "execution_count": null,
   "id": "34cc7d55",
   "metadata": {},
   "outputs": [],
   "source": [
    "Q4) Can a function have multiple return statements?\n",
    "Ans: A function can have multiple return statements but only one of them will be executed because once a \n",
    "    return statement is executed, the program control moves back to the caller function skipping the remaining \n",
    "    statements of the current function."
   ]
  }
 ],
 "metadata": {
  "kernelspec": {
   "display_name": "Python 3 (ipykernel)",
   "language": "python",
   "name": "python3"
  },
  "language_info": {
   "codemirror_mode": {
    "name": "ipython",
    "version": 3
   },
   "file_extension": ".py",
   "mimetype": "text/x-python",
   "name": "python",
   "nbconvert_exporter": "python",
   "pygments_lexer": "ipython3",
   "version": "3.10.2"
  }
 },
 "nbformat": 4,
 "nbformat_minor": 5
}
