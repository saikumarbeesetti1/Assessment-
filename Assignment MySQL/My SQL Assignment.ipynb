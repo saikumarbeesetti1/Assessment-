{
 "cells": [
  {
   "cell_type": "code",
   "execution_count": null,
   "id": "fc806eda",
   "metadata": {},
   "outputs": [],
   "source": [
    "create database Assignment_sql;\n",
    "use Assignment_sql;\n",
    "\n",
    "create table SalesPeople (Snum varchar(30) Primary key,Sname varchar(50) , \n",
    "city varchar(10),Comm varchar(5),Unique(Sname ));\n",
    "alter table SalesPeople modify Comm varchar(5);\n",
    "insert into SalesPeople(snum, sname,city,comm) values(1001,'Peel','London',12);\n",
    "insert into SalesPeople(snum, sname,city,comm) values(1002,'Serres','Sanjose',13);\n",
    "insert into SalesPeople(snum, sname,city,comm) values(1004 ,'Motika',' London',11);\n",
    "insert into SalesPeople(snum, sname,city,comm) values(1007,'Rifkin','Barcelona',15);\n",
    "insert into SalesPeople(snum, sname,city,comm) values(1003,'Axelrod','Newyork',10);\n",
    "select * from SalesPeople;\n",
    "\n",
    "create table Customers (Cnum varchar(10) primary key,Cname varchar(30),\n",
    "City varchar(10) Not Null,Snum varchar(30),foreign key(Snum)references SalesPeople(Snum));\n",
    "insert into Customers(Cnum,Cname,City,Snum) values(2001,'Hoffman','London',1001);\n",
    "insert into Customers(Cnum,Cname,City,Snum) values(2002,'Giovanni','Rome',1003);\n",
    "insert into Customers(Cnum,Cname,City,Snum) values(2003,'Liu','Sanjose',1002);\n",
    "insert into Customers(Cnum,Cname,City,Snum) values(2004,'Grass','Berlin',1002);\n",
    "insert into Customers(Cnum,Cname,City,Snum) values(2006,'Clemens','London',1001);\n",
    "insert into Customers(Cnum,Cname,City,Snum) values(2008,'Cisneros','Sanjose',1007);\n",
    "insert into Customers(Cnum,Cname,City,Snum) values(2007,'Pereira','Rome',1004);\n",
    "select * from Customers;\n",
    "\n",
    "create table Orders(Onum varchar(20) primary key,Amt varchar(20),\n",
    "Odate date,Cnum varchar(30),Snum varchar(20),foreign key(Cnum) references Customers(Cnum),\n",
    "foreign key(Snum) references SalesPeople(Snum));\n",
    "insert into Orders(Onum,Amt,Odate,Cnum,Snum) values(3001,18.69,'1990-10-3',2008,1007);\n",
    "insert into Orders(Onum,Amt,Odate,Cnum,Snum) values(3003,767.19,'1990-10-3',2001,1001);\n",
    "insert into Orders(Onum,Amt,Odate,Cnum,Snum) values(3002,1900.10,'1990-10-3',2007,1004);\n",
    "insert into Orders(Onum,Amt,Odate,Cnum,Snum) values(3005,5160.45,'1990-10-3',2003,1002);\n",
    "insert into Orders(Onum,Amt,Odate,Cnum,Snum) values(3006,1098.16,'1990-10-3',2008,1007);\n",
    "insert into Orders(Onum,Amt,Odate,Cnum,Snum) values(3009,1713.23,'1990-10-4',2002,1003);\n",
    "insert into Orders(Onum,Amt,Odate,Cnum,Snum) values(3007,75.75,'1990-10-4',2004,1002);\n",
    "insert into Orders(Onum,Amt,Odate,Cnum,Snum) values(3008,4273.00,'1990-10-5',2006,1001);\n",
    "insert into Orders(Onum,Amt,Odate,Cnum,Snum) values(3010,1309.95,'1990-10-6',2004,1002);\n",
    "insert into Orders(Onum,Amt,Odate,Cnum,Snum) values(3011,9891.88,'1990-10-6',2006,1001);\n",
    "select * from Orders;\n",
    "\n",
    "select count(*)from SalesPeople where Sname like'%a';\n",
    "select sname from SalesPeople Inner Join Orders on SalesPeople.snum=Orders.snum where Amt>2000;\n",
    "select sname from salespeople s left join orders o on s.snum=o.snum where o.amt>2000;\n",
    "select count(*) from SalesPeople where city='Newyork';\n",
    "select count(*) from SalesPeople where city='London' or city='Paris';\n",
    "select o.odate,s.sname from orders o left join salespeople s on o.snum=s.snum;\n",
    "select sname,Odate from Orders Inner Join SalesPeople on SalesPeople.snum=Orders.snum;"
   ]
  },
  {
   "cell_type": "code",
   "execution_count": null,
   "id": "da264a9e",
   "metadata": {},
   "outputs": [],
   "source": []
  },
  {
   "cell_type": "code",
   "execution_count": null,
   "id": "52abf159",
   "metadata": {},
   "outputs": [],
   "source": [
    "1.Count the number of Salesperson whose name begin with ‘a’/’A’.\n",
    "   select count(*)from SalesPeople where Sname like'%a';\n",
    "\n",
    "2.Display all the Salesperson whose all orders worth is more than Rs. 2000.\n",
    "   1)select sname from SalesPeople Inner Join Orders on SalesPeople.snum=Orders.snum where Amt>2000;\n",
    "   2)select sname from salespeople s left join orders o on s.snum=o.snum where o.amt>2000;\n",
    "\n",
    "3.Count the number of Salesperson belonging to Newyork.\n",
    "   select count(*) from SalesPeople where city='Newyork';\n",
    "\n",
    "4.Display the number of Salespeople belonging to London and belonging to Paris.\n",
    "   select count(*) from SalesPeople where city='London' or city='Paris';\n",
    "\n",
    "5.Display the number of orders taken by each Salesperson and their date of orders.\n",
    "   1)select sname,Odate from Orders Inner Join SalesPeople on SalesPeople.snum=Orders.snum;\n",
    "   2)select o.odate,s.sname from orders o left join salespeople s on o.snum=s.snum;"
   ]
  }
 ],
 "metadata": {
  "kernelspec": {
   "display_name": "Python 3 (ipykernel)",
   "language": "python",
   "name": "python3"
  },
  "language_info": {
   "codemirror_mode": {
    "name": "ipython",
    "version": 3
   },
   "file_extension": ".py",
   "mimetype": "text/x-python",
   "name": "python",
   "nbconvert_exporter": "python",
   "pygments_lexer": "ipython3",
   "version": "3.10.2"
  }
 },
 "nbformat": 4,
 "nbformat_minor": 5
}
