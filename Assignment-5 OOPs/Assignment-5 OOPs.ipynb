{
 "cells": [
  {
   "cell_type": "code",
   "execution_count": null,
   "id": "1fd08376",
   "metadata": {},
   "outputs": [],
   "source": [
    "Create You own built-in class method"
   ]
  },
  {
   "cell_type": "code",
   "execution_count": null,
   "id": "2cb94126",
   "metadata": {},
   "outputs": [],
   "source": [
    "Write a Python class to implement pow(x, n)\n",
    "\n",
    "\n",
    "\n",
    "Explanation:\n",
    "\n",
    "Use should be able to find the nth power of the x.(i.e x*x*x*x...n times)\n",
    "\n",
    "You must implement it using Class\n",
    "\n",
    "\n",
    "\n",
    "Sample Input:\n",
    "\n",
    "x: 10\n",
    "\n",
    "n: 2\n",
    "\n",
    "\n",
    "\n",
    "Sample Output:\n",
    "\n",
    "100"
   ]
  },
  {
   "cell_type": "markdown",
   "id": "8c9867b5",
   "metadata": {},
   "source": [
    "`Taking input from the user`"
   ]
  },
  {
   "cell_type": "code",
   "execution_count": 32,
   "id": "7e82fb24",
   "metadata": {},
   "outputs": [
    {
     "name": "stdout",
     "output_type": "stream",
     "text": [
      "Enter a number : 10\n",
      "Enter a power number : 2\n",
      "10  power 2  is :  100\n"
     ]
    }
   ],
   "source": [
    "class A:\n",
    "    def power (self,num1, num2):\n",
    "        print(num1, \" power\",num2, \" is : \",pow(num1,num2))\n",
    "    \n",
    "b = A()   \n",
    "b.power(int(input(\"Enter a number : \")),int(input(\"Enter a power number : \")))"
   ]
  },
  {
   "cell_type": "code",
   "execution_count": null,
   "id": "1c8abace",
   "metadata": {},
   "outputs": [],
   "source": []
  },
  {
   "cell_type": "markdown",
   "id": "9b650774",
   "metadata": {},
   "source": [
    "`Another way to take input from the user `"
   ]
  },
  {
   "cell_type": "code",
   "execution_count": 29,
   "id": "a04616fc",
   "metadata": {},
   "outputs": [
    {
     "name": "stdout",
     "output_type": "stream",
     "text": [
      "Enter 'x' value : 10\n",
      "Enter 'n' value : 2\n",
      "10  power  2  is :  100\n"
     ]
    }
   ],
   "source": [
    "\n",
    "class power:\n",
    "    def pow(self,x,n):\n",
    "        print(x ,\" power \",n,\" is : \",x**n)\n",
    "p=power()\n",
    "x=int(input(\"Enter 'x' value : \"))\n",
    "n=int(input(\"Enter 'n' value : \"))\n",
    "p.pow(x,n)"
   ]
  },
  {
   "cell_type": "code",
   "execution_count": null,
   "id": "8d20c056",
   "metadata": {},
   "outputs": [],
   "source": []
  },
  {
   "cell_type": "markdown",
   "id": "33795da1",
   "metadata": {},
   "source": [
    "`Another Way`"
   ]
  },
  {
   "cell_type": "code",
   "execution_count": 14,
   "id": "c031e15c",
   "metadata": {},
   "outputs": [],
   "source": [
    "class A:\n",
    "    def power (self,num1, num2):\n",
    "        return pow(num1,num2)\n",
    "    \n",
    "b = A()  "
   ]
  },
  {
   "cell_type": "code",
   "execution_count": 15,
   "id": "0f0821ab",
   "metadata": {},
   "outputs": [
    {
     "data": {
      "text/plain": [
       "100"
      ]
     },
     "execution_count": 15,
     "metadata": {},
     "output_type": "execute_result"
    }
   ],
   "source": [
    "b.power(10,2)"
   ]
  },
  {
   "cell_type": "code",
   "execution_count": null,
   "id": "f5dbf479",
   "metadata": {},
   "outputs": [],
   "source": []
  },
  {
   "cell_type": "code",
   "execution_count": null,
   "id": "c9b6d3e1",
   "metadata": {},
   "outputs": [],
   "source": []
  },
  {
   "cell_type": "code",
   "execution_count": null,
   "id": "f073337d",
   "metadata": {},
   "outputs": [],
   "source": []
  },
  {
   "cell_type": "code",
   "execution_count": null,
   "id": "fcef97ac",
   "metadata": {},
   "outputs": [],
   "source": []
  }
 ],
 "metadata": {
  "kernelspec": {
   "display_name": "Python 3 (ipykernel)",
   "language": "python",
   "name": "python3"
  },
  "language_info": {
   "codemirror_mode": {
    "name": "ipython",
    "version": 3
   },
   "file_extension": ".py",
   "mimetype": "text/x-python",
   "name": "python",
   "nbconvert_exporter": "python",
   "pygments_lexer": "ipython3",
   "version": "3.10.2"
  }
 },
 "nbformat": 4,
 "nbformat_minor": 5
}
