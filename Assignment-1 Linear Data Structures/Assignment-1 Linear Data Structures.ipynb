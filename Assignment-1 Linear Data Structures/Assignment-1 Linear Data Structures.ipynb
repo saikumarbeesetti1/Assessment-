{
 "cells": [
  {
   "cell_type": "code",
   "execution_count": null,
   "id": "3a8747a5",
   "metadata": {},
   "outputs": [],
   "source": [
    "Q1. Write a program to find all pairs of an integer array whose sum is equal to a given number?"
   ]
  },
  {
   "cell_type": "code",
   "execution_count": 22,
   "id": "88ea7e66",
   "metadata": {},
   "outputs": [
    {
     "name": "stdout",
     "output_type": "stream",
     "text": [
      "Enter a sum : 14\n",
      "Enter a array limit: 8\n",
      "enter a element: 1\n",
      "enter a element: 6\n",
      "enter a element: 2\n",
      "enter a element: 9\n",
      "enter a element: 8\n",
      "enter a element: 4\n",
      "enter a element: 7\n",
      "enter a element: 14\n",
      "array list:  [1, 6, 2, 9, 8, 4, 7, 14]\n",
      "Value of the pairs are  6  and  8\n",
      "Value of the pairs are  7  and  7\n",
      "None\n"
     ]
    }
   ],
   "source": [
    "def pair_of_integer (array, sum):\n",
    "    array.sort()\n",
    "    left = 0\n",
    "    right = len(array)-1\n",
    "    \n",
    "    while left <= right:\n",
    "        if (array[left] + array[right] > sum):  \n",
    "            right = right-1\n",
    "        \n",
    "        elif (array[left] + array[right] < sum):\n",
    "            left = left+1\n",
    "            \n",
    "        \n",
    "        elif (array[left] + array[right] == sum):   \n",
    "            print(\"Value of the pairs are \", array [left],\" and \",array[right])\n",
    "            right = right-1\n",
    "            left = left+1\n",
    "            \n",
    "            \n",
    "\n",
    "sum = int(input(\"Enter a sum : \"))\n",
    "n= int(input(\"Enter a array limit: \"))\n",
    "array = []\n",
    "for i in range(0,n):\n",
    "    array.append(int(input(\"enter a element: \")))\n",
    "print(\"array list: \", array) \n",
    "            \n",
    "            \n",
    "a = pair_of_integer(array, sum)\n",
    "print(a)\n",
    "      \n",
    "            "
   ]
  },
  {
   "cell_type": "code",
   "execution_count": null,
   "id": "42f6cd03",
   "metadata": {},
   "outputs": [],
   "source": []
  },
  {
   "cell_type": "code",
   "execution_count": null,
   "id": "fb0ebeb6",
   "metadata": {},
   "outputs": [],
   "source": [
    "Q2. Write a program to reverse an array in place? In place means you cannot create a new array. You have to update the \n",
    "original array."
   ]
  },
  {
   "cell_type": "code",
   "execution_count": 23,
   "id": "e556e7b7",
   "metadata": {},
   "outputs": [
    {
     "name": "stdout",
     "output_type": "stream",
     "text": [
      "Enter a array limit : 8\n",
      "enter a element: 2\n",
      "enter a element: 5\n",
      "enter a element: 4\n",
      "enter a element: 1\n",
      "enter a element: 8\n",
      "enter a element: 6\n",
      "enter a element: 9\n",
      "enter a element: 1\n",
      "array list before it's reversing:  [2, 5, 4, 1, 8, 6, 9, 1]\n",
      "array list after it reversed:  [1, 9, 6, 8, 1, 4, 5, 2]\n"
     ]
    }
   ],
   "source": [
    "\n",
    "def reverse_array (array):\n",
    "    start =0\n",
    "    end = len(array)-1\n",
    "    \n",
    "    while (start < end):\n",
    "        temp = array[start]\n",
    "        array[start] = array[end]\n",
    "        array[end] = temp\n",
    "        start+=1\n",
    "        end -=1\n",
    "    \n",
    "    \n",
    "n= int(input(\"Enter a array limit : \"))\n",
    "array = []\n",
    "for i in range(0,n):\n",
    "    array.append(int(input(\"enter a element: \")))\n",
    "print(\"array list before it's reversing: \", array)    \n",
    "reverse_array (array)\n",
    "print(\"array list after it reversed: \",array)"
   ]
  },
  {
   "cell_type": "code",
   "execution_count": null,
   "id": "bc23a4cc",
   "metadata": {},
   "outputs": [],
   "source": []
  },
  {
   "cell_type": "code",
   "execution_count": null,
   "id": "22734551",
   "metadata": {},
   "outputs": [],
   "source": [
    "Q3. Write a program to check if two strings are a rotation of each other?"
   ]
  },
  {
   "cell_type": "code",
   "execution_count": 8,
   "id": "12a577d2",
   "metadata": {},
   "outputs": [
    {
     "name": "stdout",
     "output_type": "stream",
     "text": [
      "Enter a string 1: sujanindia\n",
      "Enter a string 2: indiasujan\n",
      "Given Strings are rotations of each other.\n"
     ]
    }
   ],
   "source": [
    "def Check_rotation_of_string(string1, string2): \n",
    "    string3 = '' \n",
    "  \n",
    "    \n",
    "    if len(string1) != len(string2): \n",
    "        return False\n",
    "  \n",
    "    \n",
    "    string3 = string1 + string2\n",
    "  \n",
    "    \n",
    "    if string2 in string3: \n",
    "        return True \n",
    "    else: \n",
    "        return False\n",
    "  \n",
    "\n",
    "\n",
    "string1 = input(\"Enter a string 1: \")\n",
    "string2 = input(\"Enter a string 2: \")\n",
    "  \n",
    "if Check_rotation_of_string(string1, string2): \n",
    "    print(\"Given Strings are rotations of each other.\")\n",
    "else: \n",
    "    print(\"Given Strings are not rotations of each other.\")"
   ]
  },
  {
   "cell_type": "code",
   "execution_count": null,
   "id": "36698d9e",
   "metadata": {},
   "outputs": [],
   "source": []
  },
  {
   "cell_type": "code",
   "execution_count": null,
   "id": "00672034",
   "metadata": {},
   "outputs": [],
   "source": [
    "Q4. Write a program to print the first non-repeated character from a string?"
   ]
  },
  {
   "cell_type": "code",
   "execution_count": 31,
   "id": "c5b321d0",
   "metadata": {},
   "outputs": [
    {
     "name": "stdout",
     "output_type": "stream",
     "text": [
      "Enter a String: indiaisadevelopingcountry\n",
      "{'i': 4, 'n': 3, 'd': 2, 'a': 2, 's': 1, 'e': 2, 'v': 1, 'l': 1, 'o': 2, 'p': 1, 'g': 1, 'c': 1, 'u': 1, 't': 1, 'r': 1, 'y': 1}\n",
      "First non-repeated character from a string is :  s "
     ]
    }
   ],
   "source": [
    "def non_repeating_character(String):\n",
    "    d = {}\n",
    "    for i in range(len(String)):\n",
    "        key = String[i]\n",
    "        \n",
    "        if key not in d:\n",
    "            d[key] = 1\n",
    "        else:\n",
    "            d[key]+=1\n",
    "    print(d)\n",
    "    \n",
    "    for key, value in d.items():\n",
    "        if value == 1:\n",
    "            print(\"First non-repeated character from a string is : \",key, end = \" \")\n",
    "            break\n",
    "            \n",
    "        \n",
    "non_repeating_character(input(\"Enter a String: \"))    \n"
   ]
  },
  {
   "cell_type": "code",
   "execution_count": null,
   "id": "2060ef72",
   "metadata": {},
   "outputs": [],
   "source": []
  },
  {
   "cell_type": "code",
   "execution_count": null,
   "id": "d573422c",
   "metadata": {},
   "outputs": [],
   "source": [
    "Q5. Read about the Tower of Hanoi algorithm. Write a program to implement it."
   ]
  },
  {
   "cell_type": "code",
   "execution_count": 32,
   "id": "9354bb8a",
   "metadata": {},
   "outputs": [
    {
     "name": "stdout",
     "output_type": "stream",
     "text": [
      "Enter number of disks: 3\n",
      "Move disk 1 from peg A to peg C.\n",
      "Move disk 2 from peg A to peg B.\n",
      "Move disk 1 from peg C to peg B.\n",
      "Move disk 3 from peg A to peg C.\n",
      "Move disk 1 from peg B to peg A.\n",
      "Move disk 2 from peg B to peg C.\n",
      "Move disk 1 from peg A to peg C.\n"
     ]
    }
   ],
   "source": [
    "def hanoi(disks, source, auxiliary, target):\n",
    "    if disks == 1:\n",
    "        print('Move disk 1 from peg {} to peg {}.'.format(source, target))\n",
    "        return\n",
    " \n",
    "    hanoi(disks - 1, source, target, auxiliary)\n",
    "    print('Move disk {} from peg {} to peg {}.'.format(disks, source, target))\n",
    "    hanoi(disks - 1, auxiliary, source, target)\n",
    " \n",
    " \n",
    "disks = int(input('Enter number of disks: '))\n",
    "hanoi(disks, 'A', 'B', 'C')"
   ]
  },
  {
   "cell_type": "code",
   "execution_count": null,
   "id": "6957cfe7",
   "metadata": {},
   "outputs": [],
   "source": []
  },
  {
   "cell_type": "code",
   "execution_count": null,
   "id": "bf38eb49",
   "metadata": {},
   "outputs": [],
   "source": [
    "Q6. Read about infix, prefix, and postfix expressions. Write a program to convert postfix to prefix expression."
   ]
  },
  {
   "cell_type": "code",
   "execution_count": 22,
   "id": "5b979e90",
   "metadata": {},
   "outputs": [
    {
     "name": "stdout",
     "output_type": "stream",
     "text": [
      "Prefix :  +AB-CD\n"
     ]
    }
   ],
   "source": [
    "def isOperator(x):\n",
    " \n",
    "    if x == \"+\":\n",
    "        return True\n",
    " \n",
    "    if x == \"-\":\n",
    "        return True\n",
    " \n",
    "    if x == \"/\":\n",
    "        return True\n",
    " \n",
    "    if x == \"*\":\n",
    "        return True\n",
    " \n",
    "    return False\n",
    " \n",
    "def postToPre(post_exp):\n",
    " \n",
    "    s = []\n",
    " \n",
    "    length = len(post_exp)\n",
    " \n",
    "    for i in range(length):\n",
    " \n",
    "        if (isOperator(post_exp[i])):\n",
    " \n",
    "            op1 = s[-1]\n",
    "            s.pop()\n",
    "            op2 = s[-1]\n",
    "            s.pop()\n",
    " \n",
    "           \n",
    "            c = post_exp[i] + op2 + op1\n",
    " \n",
    "            s.append(c)\n",
    " \n",
    "        else:\n",
    " \n",
    "            s.append(post_exp[i])\n",
    " \n",
    "    \n",
    "    ans = \"\"\n",
    "    for i in s:\n",
    "        ans += i\n",
    "    return ans\n",
    " \n",
    " \n",
    "post_exp = \"AB+CD-\"\n",
    "     \n",
    "print(\"Prefix : \", postToPre(post_exp))\n",
    " \n"
   ]
  },
  {
   "cell_type": "code",
   "execution_count": null,
   "id": "52326667",
   "metadata": {},
   "outputs": [],
   "source": []
  },
  {
   "cell_type": "code",
   "execution_count": null,
   "id": "2ec0308c",
   "metadata": {},
   "outputs": [],
   "source": [
    "Q7. Write a program to convert prefix expression to infix expression."
   ]
  },
  {
   "cell_type": "code",
   "execution_count": 7,
   "id": "59f1b41f",
   "metadata": {},
   "outputs": [
    {
     "name": "stdout",
     "output_type": "stream",
     "text": [
      "ACA/-MK/D-*\n"
     ]
    }
   ],
   "source": [
    "s = \"*-A/CA-/MKD\"\n",
    " \n",
    "\n",
    "stack = []\n",
    " \n",
    "operators = set(['+', '-', '*', '/', '^'])\n",
    " \n",
    "s = s[::-1]\n",
    " \n",
    "for i in s:\n",
    " \n",
    "    if i in operators:\n",
    " \n",
    "        a = stack.pop()\n",
    "        b = stack.pop()\n",
    "        c = a+b+i\n",
    "        stack.append(c)\n",
    " \n",
    "    else:\n",
    "        stack.append(i)\n",
    " \n",
    "\n",
    "print(*stack)"
   ]
  },
  {
   "cell_type": "code",
   "execution_count": null,
   "id": "17405978",
   "metadata": {},
   "outputs": [],
   "source": []
  },
  {
   "cell_type": "code",
   "execution_count": null,
   "id": "9ab18133",
   "metadata": {},
   "outputs": [],
   "source": [
    "Q8. Write a program to check if all the brackets are closed in a given code snippet."
   ]
  },
  {
   "cell_type": "code",
   "execution_count": 29,
   "id": "c1b0822a",
   "metadata": {},
   "outputs": [
    {
     "name": "stdout",
     "output_type": "stream",
     "text": [
      "Enter a brackets you want to check if it is balanced or not : ((()))\n",
      "Is it balanced :  YES\n"
     ]
    }
   ],
   "source": [
    "def balanced(string):\n",
    "    stack = []\n",
    "    bracket = {'{':'}', '(':')', '[':']'}\n",
    "    \n",
    "    for char in string:\n",
    "        if char in ['{', '(', '[']:\n",
    "            stack.append(char)\n",
    "            \n",
    "        else:\n",
    "            if stack:\n",
    "                top = stack.pop()\n",
    "                if bracket[top] != char:\n",
    "                    return 'NO'\n",
    "                \n",
    "            else:\n",
    "                return 'NO'\n",
    "    if stack:\n",
    "        return 'NO'\n",
    "    else:\n",
    "        return 'YES'\n",
    "    \n",
    "string = input(\"Enter a brackets you want to check if it is balanced or not : \")\n",
    "print(\"Is it balanced : \",balanced(string))"
   ]
  },
  {
   "cell_type": "code",
   "execution_count": null,
   "id": "67147eef",
   "metadata": {},
   "outputs": [],
   "source": []
  },
  {
   "cell_type": "code",
   "execution_count": null,
   "id": "858af8a3",
   "metadata": {},
   "outputs": [],
   "source": [
    "Q9. Write a program to reverse a stack."
   ]
  },
  {
   "cell_type": "code",
   "execution_count": 19,
   "id": "ab6fe652",
   "metadata": {},
   "outputs": [
    {
     "name": "stdout",
     "output_type": "stream",
     "text": [
      "Original Stack\n",
      "5\n",
      "4\n",
      "3\n",
      "2\n",
      "1\n",
      "\n",
      "Stack after Reversing\n",
      "1\n",
      "2\n",
      "3\n",
      "4\n",
      "5\n"
     ]
    }
   ],
   "source": [
    "\n",
    "class Stack:\n",
    " \n",
    "    \n",
    "    def __init__(self):\n",
    "        self.Elements = []\n",
    "         \n",
    "    \n",
    "    def push(self, value):\n",
    "        self.Elements.append(value)\n",
    "       \n",
    "    \n",
    "    def pop(self):\n",
    "        return self.Elements.pop()\n",
    "     \n",
    "    \n",
    "    def empty(self):\n",
    "        return self.Elements == []\n",
    "     \n",
    "    \n",
    "    def show(self):\n",
    "        for value in reversed(self.Elements):\n",
    "            print(value)\n",
    " \n",
    "# insert value at bottom\n",
    "def BottomInsert(s, value):\n",
    "   \n",
    "    if s.empty():\n",
    "         s.push(value)\n",
    "    else:\n",
    "        popped = s.pop()\n",
    "        BottomInsert(s, value)\n",
    "        s.push(popped)\n",
    " \n",
    "# reverse the stack\n",
    "def Reverse(s):\n",
    "    if s.empty():\n",
    "        pass\n",
    "    else:\n",
    "        popped = s.pop()\n",
    "        Reverse(s)\n",
    "        BottomInsert(s, popped)\n",
    " \n",
    " \n",
    "\n",
    "stack = Stack()\n",
    " \n",
    "stack .push(1)\n",
    "stack .push(2)\n",
    "stack .push(3)\n",
    "stack .push(4)\n",
    "stack .push(5)\n",
    " \n",
    "print(\"Original Stack\")\n",
    "stack .show()\n",
    " \n",
    "print(\"\\nStack after Reversing\")\n",
    "Reverse(stack )\n",
    "stack .show()"
   ]
  },
  {
   "cell_type": "code",
   "execution_count": null,
   "id": "84633672",
   "metadata": {},
   "outputs": [],
   "source": []
  },
  {
   "cell_type": "code",
   "execution_count": null,
   "id": "59c1fc57",
   "metadata": {},
   "outputs": [],
   "source": [
    "Q10. Write a program to find the smallest number using a stack."
   ]
  },
  {
   "cell_type": "code",
   "execution_count": 13,
   "id": "696c400c",
   "metadata": {},
   "outputs": [
    {
     "name": "stdout",
     "output_type": "stream",
     "text": [
      "Smallest number is :  2\n"
     ]
    }
   ],
   "source": [
    "from collections import deque\n",
    "\n",
    "\n",
    "class MinStack:\n",
    "    def __init__(self):\n",
    "        self.s = deque()\n",
    "        self.min = None\n",
    "\n",
    "\n",
    "    def push(self, val):\n",
    "        if not self.s:\n",
    "            self.s.append(val)\n",
    "            self.min = val\n",
    "        elif val > self.min:\n",
    "            self.s.append(val)\n",
    "        else:\n",
    "            self.s.append(2*val - self.min)\n",
    "            self.min = val\n",
    "\n",
    "\n",
    "    def pop(self):\n",
    "        if not self.s:\n",
    "            self.print('Stack underflow!!')\n",
    "            exit(-1)\n",
    "        top = self.s[-1]\n",
    "        if top < self.min:\n",
    "            self.min = 2*self.min - top\n",
    "        self.s.pop()\n",
    "\n",
    "\n",
    "    def getMin(self):\n",
    "        return self.min\n",
    "\n",
    "\n",
    "\n",
    "\n",
    "s = MinStack()\n",
    "\n",
    "s.push(9)\n",
    "s.push(5)\n",
    "s.push(2)\n",
    "s.push(3)\n",
    "\n",
    "print(\"Smallest number is : \",s.getMin())\n",
    "\n",
    "\n"
   ]
  },
  {
   "cell_type": "code",
   "execution_count": null,
   "id": "1b44394d",
   "metadata": {},
   "outputs": [],
   "source": []
  }
 ],
 "metadata": {
  "kernelspec": {
   "display_name": "Python 3 (ipykernel)",
   "language": "python",
   "name": "python3"
  },
  "language_info": {
   "codemirror_mode": {
    "name": "ipython",
    "version": 3
   },
   "file_extension": ".py",
   "mimetype": "text/x-python",
   "name": "python",
   "nbconvert_exporter": "python",
   "pygments_lexer": "ipython3",
   "version": "3.10.2"
  }
 },
 "nbformat": 4,
 "nbformat_minor": 5
}
