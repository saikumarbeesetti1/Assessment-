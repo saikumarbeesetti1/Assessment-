{
 "cells": [
  {
   "cell_type": "code",
   "execution_count": 2,
   "id": "64723cb4",
   "metadata": {},
   "outputs": [
    {
     "name": "stdout",
     "output_type": "stream",
     "text": [
      "Values of pair are 7 & 7\n"
     ]
    }
   ],
   "source": [
    "def twosum(arr,sum):\n",
    "    arr.sort()\n",
    "    left=0\n",
    "    right=len(arr)-1\n",
    "    while(left<=right):\n",
    "        if(arr[left]+arr[right]>sum):\n",
    "            right=right-1\n",
    "        elif(arr[left]+arr[right]<sum):\n",
    "            left=left+1\n",
    "        elif(arr[left]+arr[right]==sum):\n",
    "            print(\"Values of pair are\",arr[left],\"&\", arr[right])\n",
    "            right=right-1\n",
    "            left=left+1\n",
    "            \n",
    "arr = [1,6,2,9,4,7,14]\n",
    "sum = 14\n",
    "twosum(arr,sum)                    "
   ]
  },
  {
   "cell_type": "code",
   "execution_count": 4,
   "id": "8f1e99a2",
   "metadata": {},
   "outputs": [
    {
     "name": "stdout",
     "output_type": "stream",
     "text": [
      "Pair found (2, 5)\n"
     ]
    }
   ],
   "source": [
    "# Naive method to find a pair in a list with the given sum\n",
    "def findPair(nums, target):\n",
    " \n",
    "    # consider each element except the last\n",
    "    for i in range(len(nums) - 1):\n",
    " \n",
    "        # start from the i'th element until the last element\n",
    "        for j in range(i + 1, len(nums)):\n",
    " \n",
    "            # if the desired sum is found, print it\n",
    "            if nums[i] + nums[j] == target:\n",
    "                print('Pair found', (nums[i], nums[j]))\n",
    "                return\n",
    " \n",
    "    # No pair with the given sum exists in the list\n",
    "    print('Pair not found')\n",
    " \n",
    " \n",
    "if __name__ == '__main__':\n",
    " \n",
    "    nums = [8, 7, 2, 5, 3, 1]\n",
    "    target = 7\n",
    " \n",
    "    findPair(nums, target)\n",
    " \n"
   ]
  },
  {
   "cell_type": "code",
   "execution_count": null,
   "id": "849ac05f",
   "metadata": {},
   "outputs": [],
   "source": []
  },
  {
   "cell_type": "code",
   "execution_count": null,
   "id": "74001d72",
   "metadata": {},
   "outputs": [],
   "source": [
    "def checkRotation(s1, s2): \n",
    "    temp = '' \n",
    "  \n",
    "    # Check if lengths of two strings are equal or not \n",
    "    if len(s1) != len(s2): \n",
    "        return False\n",
    "  \n",
    "    # storing concatenated string \n",
    "    temp = s1 + s1 \n",
    "  \n",
    "    \n",
    "    if s2 in temp: \n",
    "        return True #returning true if 2nd string is present in concatenated string\n",
    "    else: \n",
    "        return False\n",
    "  \n",
    "# Driver program to test the above function \n",
    "string1 = input(\"Enter a string 1: \")\n",
    "string2 = input(\"Enter a string 2: \")\n",
    "  \n",
    "if checkRotation(string1, string2): \n",
    "    print(\"Given Strings are rotations of each other.\")\n",
    "else: \n",
    "    print(\"Given Strings are not rotations of each other.\")"
   ]
  },
  {
   "cell_type": "code",
   "execution_count": null,
   "id": "90bd1629",
   "metadata": {},
   "outputs": [],
   "source": []
  },
  {
   "cell_type": "code",
   "execution_count": null,
   "id": "3c49fb29",
   "metadata": {},
   "outputs": [],
   "source": [
    "Q5. Read about the Tower of Hanoi algorithm. Write a program to implement it."
   ]
  },
  {
   "cell_type": "code",
   "execution_count": 1,
   "id": "ac57775a",
   "metadata": {},
   "outputs": [
    {
     "name": "stdout",
     "output_type": "stream",
     "text": [
      "Enter number of disks: 3\n",
      "Move disk 1 from peg A to peg C.\n",
      "Move disk 2 from peg A to peg B.\n",
      "Move disk 1 from peg C to peg B.\n",
      "Move disk 3 from peg A to peg C.\n",
      "Move disk 1 from peg B to peg A.\n",
      "Move disk 2 from peg B to peg C.\n",
      "Move disk 1 from peg A to peg C.\n"
     ]
    }
   ],
   "source": [
    "def hanoi(disks, source, auxiliary, target):\n",
    "    if disks == 1:\n",
    "        print('Move disk 1 from peg {} to peg {}.'.format(source, target))\n",
    "        return\n",
    " \n",
    "    hanoi(disks - 1, source, target, auxiliary)\n",
    "    print('Move disk {} from peg {} to peg {}.'.format(disks, source, target))\n",
    "    hanoi(disks - 1, auxiliary, source, target)\n",
    " \n",
    " \n",
    "disks = int(input('Enter number of disks: '))\n",
    "hanoi(disks, 'A', 'B', 'C')"
   ]
  },
  {
   "cell_type": "code",
   "execution_count": null,
   "id": "231f1db2",
   "metadata": {},
   "outputs": [],
   "source": []
  },
  {
   "cell_type": "code",
   "execution_count": null,
   "id": "9a5f80a6",
   "metadata": {},
   "outputs": [],
   "source": [
    "Q6. Read about infix, prefix, and postfix expressions. Write a program to convert postfix to prefix expression."
   ]
  },
  {
   "cell_type": "code",
   "execution_count": null,
   "id": "8c282de5",
   "metadata": {},
   "outputs": [],
   "source": [
    "https://algorithms.tutorialhorizon.com/convert-postfix-to-prefix-expression/"
   ]
  },
  {
   "cell_type": "code",
   "execution_count": 3,
   "id": "6210ed1a",
   "metadata": {},
   "outputs": [
    {
     "name": "stdout",
     "output_type": "stream",
     "text": [
      "Prefix :  +AB-CD\n"
     ]
    }
   ],
   "source": [
    "# Python3 Program to convert postfix to prefix\n",
    " \n",
    "# function to check if\n",
    "# character is operator or not\n",
    " \n",
    " \n",
    "def isOperator(x):\n",
    " \n",
    "    if x == \"+\":\n",
    "        return True\n",
    " \n",
    "    if x == \"-\":\n",
    "        return True\n",
    " \n",
    "    if x == \"/\":\n",
    "        return True\n",
    " \n",
    "    if x == \"*\":\n",
    "        return True\n",
    " \n",
    "    return False\n",
    " \n",
    "# Convert postfix to Prefix expression\n",
    " \n",
    " \n",
    "def postToPre(post_exp):\n",
    " \n",
    "    s = []\n",
    " \n",
    "    # length of expression\n",
    "    length = len(post_exp)\n",
    " \n",
    "    # reading from right to left\n",
    "    for i in range(length):\n",
    " \n",
    "        # check if symbol is operator\n",
    "        if (isOperator(post_exp[i])):\n",
    " \n",
    "            # pop two operands from stack\n",
    "            op1 = s[-1]\n",
    "            s.pop()\n",
    "            op2 = s[-1]\n",
    "            s.pop()\n",
    " \n",
    "            # concat the operands and operator\n",
    "            temp = post_exp[i] + op2 + op1\n",
    " \n",
    "            # Push string temp back to stack\n",
    "            s.append(temp)\n",
    " \n",
    "        # if symbol is an operand\n",
    "        else:\n",
    " \n",
    "            # push the operand to the stack\n",
    "            s.append(post_exp[i])\n",
    " \n",
    "    \n",
    "    ans = \"\"\n",
    "    for i in s:\n",
    "        ans += i\n",
    "    return ans\n",
    " \n",
    " \n",
    "# Driver Code\n",
    "if __name__ == \"__main__\":\n",
    " \n",
    "    post_exp = \"AB+CD-\"\n",
    "     \n",
    "    # Function call\n",
    "    print(\"Prefix : \", postToPre(post_exp))\n",
    " \n",
    "# This code is contributed by AnkitRai01"
   ]
  },
  {
   "cell_type": "code",
   "execution_count": null,
   "id": "46b30ca2",
   "metadata": {},
   "outputs": [],
   "source": [
    "https://www.geeksforgeeks.org/postfix-prefix-conversion/?ref=lbp"
   ]
  },
  {
   "cell_type": "code",
   "execution_count": null,
   "id": "af1e0d14",
   "metadata": {},
   "outputs": [],
   "source": [
    "Q7. Write a program to convert prefix expression to infix expression."
   ]
  },
  {
   "cell_type": "code",
   "execution_count": 2,
   "id": "c2ccb76c",
   "metadata": {},
   "outputs": [
    {
     "name": "stdout",
     "output_type": "stream",
     "text": [
      "ABC/-AK/L-*\n"
     ]
    }
   ],
   "source": [
    "\n",
    "# Write Python3 code here\n",
    "# -*- coding: utf-8 -*-\n",
    " \n",
    "# Example Input\n",
    "s = \"*-A/BC-/AKL\"\n",
    " \n",
    "# Stack for storing operands\n",
    "stack = []\n",
    " \n",
    "operators = set(['+', '-', '*', '/', '^'])\n",
    " \n",
    "# Reversing the order\n",
    "s = s[::-1]\n",
    " \n",
    "# iterating through individual tokens\n",
    "for i in s:\n",
    " \n",
    "    # if token is operator\n",
    "    if i in operators:\n",
    " \n",
    "        # pop 2 elements from stack\n",
    "        a = stack.pop()\n",
    "        b = stack.pop()\n",
    " \n",
    "        # concatenate them as operand1 +\n",
    "        # operand2 + operator\n",
    "        temp = a+b+i\n",
    "        stack.append(temp)\n",
    " \n",
    "    # else if operand\n",
    "    else:\n",
    "        stack.append(i)\n",
    " \n",
    "# printing final output\n",
    "print(*stack)"
   ]
  },
  {
   "cell_type": "code",
   "execution_count": null,
   "id": "7d4cf4e1",
   "metadata": {},
   "outputs": [],
   "source": []
  },
  {
   "cell_type": "code",
   "execution_count": null,
   "id": "2642cbb8",
   "metadata": {},
   "outputs": [],
   "source": [
    "Q8. Write a program to check if all the brackets are closed in a given code snippet."
   ]
  },
  {
   "cell_type": "code",
   "execution_count": null,
   "id": "8fca1f8c",
   "metadata": {},
   "outputs": [],
   "source": [
    "https://www.youtube.com/watch?v=ekiZ30NCZAI"
   ]
  },
  {
   "cell_type": "code",
   "execution_count": 14,
   "id": "fff24310",
   "metadata": {},
   "outputs": [
    {
     "data": {
      "text/plain": [
       "'YES'"
      ]
     },
     "execution_count": 14,
     "metadata": {},
     "output_type": "execute_result"
    }
   ],
   "source": [
    "def balanced(string):\n",
    "    stack = []\n",
    "    bracket = {'{':'}', '(':')', '[':']'}\n",
    "    \n",
    "    for char in string:\n",
    "        if char in ['{', '(', '[']:\n",
    "            stack.append(char)\n",
    "            \n",
    "        else:\n",
    "            if stack:\n",
    "                top = stack.pop()\n",
    "                if bracket[top] != char:\n",
    "                    return 'NO'\n",
    "                \n",
    "            else:\n",
    "                return 'NO'\n",
    "    if stack:\n",
    "        return 'NO'\n",
    "    else:\n",
    "        return 'YES'\n",
    "    \n",
    "string = \"((()))\"  \n",
    "balanced(string)"
   ]
  },
  {
   "cell_type": "code",
   "execution_count": 9,
   "id": "7b93d161",
   "metadata": {},
   "outputs": [
    {
     "name": "stdout",
     "output_type": "stream",
     "text": [
      "Balanced\n",
      "Not Balanced\n"
     ]
    }
   ],
   "source": [
    "# Python3 program for the above approach\n",
    " \n",
    "# Function to check if\n",
    "# parenthesis are balanced\n",
    "def isBalanced(exp):\n",
    " \n",
    "    # Initialising Variables\n",
    "    flag = True\n",
    "    count = 0\n",
    " \n",
    "    # Traversing the Expression\n",
    "    for i in range(len(exp)):\n",
    "        if (exp[i] == '('):\n",
    "            count += 1\n",
    "        else:\n",
    "             \n",
    "            # It is a closing parenthesis\n",
    "            count -= 1\n",
    " \n",
    "        if (count < 0):\n",
    " \n",
    "            # This means there are\n",
    "            # more closing parenthesis\n",
    "            # than opening\n",
    "            flag = False\n",
    "            break\n",
    " \n",
    "    # If count is not zero ,\n",
    "    # it means there are more\n",
    "    # opening parenthesis\n",
    "    if (count != 0):\n",
    "        flag = False\n",
    " \n",
    "    return flag\n",
    " \n",
    "# Driver code\n",
    "if __name__ == '__main__':\n",
    "     \n",
    " \n",
    "    exp1 = \"((()))\"\n",
    " \n",
    "    if (isBalanced(exp1)):\n",
    "        print(\"Balanced\")\n",
    "    else:\n",
    "        print(\"Not Balanced\")\n",
    " \n",
    "    exp2 = \"())((())\"\n",
    " \n",
    "    if (isBalanced(exp2)):\n",
    "        print(\"Balanced\")\n",
    "    else:\n",
    "        print(\"Not Balanced\")\n",
    " \n",
    "# This code is contributed by himanshu77"
   ]
  },
  {
   "cell_type": "code",
   "execution_count": null,
   "id": "a1826746",
   "metadata": {},
   "outputs": [],
   "source": []
  },
  {
   "cell_type": "code",
   "execution_count": null,
   "id": "a381bb32",
   "metadata": {},
   "outputs": [],
   "source": [
    "Q9. Write a program to reverse a stack."
   ]
  },
  {
   "cell_type": "code",
   "execution_count": 15,
   "id": "fc927d49",
   "metadata": {},
   "outputs": [
    {
     "name": "stdout",
     "output_type": "stream",
     "text": [
      "Original Stack\n",
      "5\n",
      "4\n",
      "3\n",
      "2\n",
      "1\n",
      "\n",
      "Stack after Reversing\n",
      "1\n",
      "2\n",
      "3\n",
      "4\n",
      "5\n"
     ]
    }
   ],
   "source": [
    "# create class for stack\n",
    "class Stack:\n",
    " \n",
    "    # create empty list\n",
    "    def __init__(self):\n",
    "        self.Elements = []\n",
    "         \n",
    "    # push() for insert an element\n",
    "    def push(self, value):\n",
    "        self.Elements.append(value)\n",
    "       \n",
    "    # pop() for remove an element\n",
    "    def pop(self):\n",
    "        return self.Elements.pop()\n",
    "     \n",
    "    # empty() check the stack is empty of not\n",
    "    def empty(self):\n",
    "        return self.Elements == []\n",
    "     \n",
    "    # show() display stack\n",
    "    def show(self):\n",
    "        for value in reversed(self.Elements):\n",
    "            print(value)\n",
    " \n",
    "# Insert_Bottom() insert value at bottom\n",
    "def BottomInsert(s, value):\n",
    "   \n",
    "    # check the stack is empty or not\n",
    "    if s.empty():\n",
    "         \n",
    "        # if stack is empty then call\n",
    "        # push() method.\n",
    "        s.push(value)\n",
    "         \n",
    "    # if stack is not empty then execute\n",
    "    # else block\n",
    "    else:\n",
    "        popped = s.pop()\n",
    "        BottomInsert(s, value)\n",
    "        s.push(popped)\n",
    " \n",
    "# Reverse() reverse the stack\n",
    "def Reverse(s):\n",
    "    if s.empty():\n",
    "        pass\n",
    "    else:\n",
    "        popped = s.pop()\n",
    "        Reverse(s)\n",
    "        BottomInsert(s, popped)\n",
    " \n",
    " \n",
    "# create object of stack class\n",
    "stk = Stack()\n",
    " \n",
    "stk.push(1)\n",
    "stk.push(2)\n",
    "stk.push(3)\n",
    "stk.push(4)\n",
    "stk.push(5)\n",
    " \n",
    "print(\"Original Stack\")\n",
    "stk.show()\n",
    " \n",
    "print(\"\\nStack after Reversing\")\n",
    "Reverse(stk)\n",
    "stk.show()"
   ]
  },
  {
   "cell_type": "code",
   "execution_count": null,
   "id": "adb6f08a",
   "metadata": {},
   "outputs": [
    {
     "name": "stdout",
     "output_type": "stream",
     "text": [
      "enter the string: sujan acharya\n"
     ]
    }
   ],
   "source": [
    "def reverse_stack(string1):\n",
    "    if len(string1) == 1:\n",
    "        return string1\n",
    "    else:\n",
    "        return reverse_stack(string1[1::] + string1[0])\n",
    "    \n",
    "string1 = input(\"enter the string: \")\n",
    "string2 = reverse_stack(string1)\n",
    "print(\"Reversed string is : \",string2)"
   ]
  },
  {
   "cell_type": "code",
   "execution_count": null,
   "id": "8b9bcb60",
   "metadata": {},
   "outputs": [],
   "source": [
    "https://www.geeksforgeeks.org/stack-set-3-reverse-string-using-stack/"
   ]
  },
  {
   "cell_type": "code",
   "execution_count": 2,
   "id": "255013be",
   "metadata": {},
   "outputs": [
    {
     "name": "stdout",
     "output_type": "stream",
     "text": [
      "Reversed string is najus\n"
     ]
    }
   ],
   "source": [
    "# Python program to reverse a string using stack\n",
    " \n",
    "# Function to create an empty stack.\n",
    "# It initializes size of stack as 0\n",
    "def createStack():\n",
    "    stack=[]\n",
    "    return stack\n",
    " \n",
    "# Function to determine the size of the stack\n",
    "def size(stack):\n",
    "    return len(stack)\n",
    " \n",
    "# Stack is empty if the size is 0\n",
    "def isEmpty(stack):\n",
    "    if size(stack) == 0:\n",
    "        return true\n",
    " \n",
    "# Function to add an item to stack .\n",
    "# It increases size by 1\n",
    "def push(stack,item):\n",
    "    stack.append(item)\n",
    " \n",
    "#Function to remove an item from stack.\n",
    "# It decreases size by 1\n",
    "def pop(stack):\n",
    "    if isEmpty(stack): return\n",
    "    return stack.pop()\n",
    " \n",
    "# A stack based function to reverse a string\n",
    "def reverse(string):\n",
    "    n = len(string)\n",
    "     \n",
    "    # Create a empty stack\n",
    "    stack = createStack()\n",
    " \n",
    "    # Push all characters of string to stack\n",
    "    for i in range(0,n,1):\n",
    "        push(stack,string[i])\n",
    " \n",
    "    # Making the string empty since all\n",
    "    #characters are saved in stack\n",
    "    string=\"\"\n",
    " \n",
    "    # Pop all characters of string and\n",
    "    # put them back to string\n",
    "    for i in range(0,n,1):\n",
    "        string+=pop(stack)\n",
    "         \n",
    "    return string\n",
    "     \n",
    "# Driver program to test above functions\n",
    "string=\"sujan\"\n",
    "string = reverse(string)\n",
    "print(\"Reversed string is \" + string)\n",
    " \n",
    "# This code is contributed by Sunny Karira"
   ]
  },
  {
   "cell_type": "code",
   "execution_count": null,
   "id": "bc995abe",
   "metadata": {},
   "outputs": [],
   "source": []
  },
  {
   "cell_type": "code",
   "execution_count": null,
   "id": "450b5c86",
   "metadata": {},
   "outputs": [],
   "source": [
    "Q10. Write a program to find the smallest number using a stack."
   ]
  },
  {
   "cell_type": "code",
   "execution_count": null,
   "id": "a050b0d5",
   "metadata": {},
   "outputs": [],
   "source": [
    "https://www.youtube.com/watch?v=QMlDCR9xyd8"
   ]
  },
  {
   "cell_type": "code",
   "execution_count": 11,
   "id": "e6fa0a83",
   "metadata": {},
   "outputs": [
    {
     "name": "stdout",
     "output_type": "stream",
     "text": [
      "6\n",
      "6\n",
      "5\n",
      "3\n",
      "5\n",
      "6\n"
     ]
    }
   ],
   "source": [
    "\n",
    "from collections import deque\n",
    " \n",
    " \n",
    "class MinStack:\n",
    "    def __init__(self):\n",
    "        # main stack to store elements\n",
    "        self.s = deque()\n",
    "        # variable to store the minimum element\n",
    "        self.min = None\n",
    " \n",
    "    # Inserts a given element on top of the stack\n",
    "    def push(self, val):\n",
    "        if not self.s:\n",
    "            self.s.append(val)\n",
    "            self.min = val\n",
    "        elif val > self.min:\n",
    "            self.s.append(val)\n",
    "        else:\n",
    "            self.s.append(2*val - self.min)\n",
    "            self.min = val\n",
    " \n",
    "    # Removes the top element from the stack\n",
    "    def pop(self):\n",
    "        if not self.s:\n",
    "            self.print('Stack underflow!!')\n",
    "            exit(-1)\n",
    "        top = self.s[-1]\n",
    "        if top < self.min:\n",
    "            self.min = 2*self.min - top\n",
    "        self.s.pop()\n",
    " \n",
    "    # Returns the minimum element from the stack in constant time\n",
    "    def getMin(self):\n",
    "        return self.min\n",
    " \n",
    " \n",
    "if __name__ == '__main__':\n",
    " \n",
    "    s = MinStack()\n",
    " \n",
    "    s.push(6)\n",
    "    print(s.getMin())\n",
    " \n",
    "    s.push(7)\n",
    "    print(s.getMin())\n",
    " \n",
    "    s.push(5)\n",
    "    print(s.getMin())\n",
    " \n",
    "    s.push(3)\n",
    "    print(s.getMin())\n",
    " \n",
    "    s.pop()\n",
    "    print(s.getMin())\n",
    " \n",
    "    s.pop()\n",
    "    print(s.getMin())"
   ]
  },
  {
   "cell_type": "code",
   "execution_count": 1,
   "id": "0ea00c0e",
   "metadata": {},
   "outputs": [
    {
     "name": "stdout",
     "output_type": "stream",
     "text": [
      "6\n",
      "6\n",
      "5\n",
      "3\n",
      "5\n",
      "6\n"
     ]
    }
   ],
   "source": [
    "from collections import deque\n",
    "\n",
    "\n",
    "class MinStack:\n",
    "\tdef __init__(self):\n",
    "\t\t# main stack to store elements\n",
    "\t\tself.s = deque()\n",
    "\t\t# variable to store the minimum element\n",
    "\t\tself.min = None\n",
    "\n",
    "\t# Inserts a given element on top of the stack\n",
    "\tdef push(self, val):\n",
    "\t\tif not self.s:\n",
    "\t\t\tself.s.append(val)\n",
    "\t\t\tself.min = val\n",
    "\t\telif val > self.min:\n",
    "\t\t\tself.s.append(val)\n",
    "\t\telse:\n",
    "\t\t\tself.s.append(2*val - self.min)\n",
    "\t\t\tself.min = val\n",
    "\n",
    "\t# Removes the top element from the stack\n",
    "\tdef pop(self):\n",
    "\t\tif not self.s:\n",
    "\t\t\tself.print('Stack underflow!!')\n",
    "\t\t\texit(-1)\n",
    "\t\ttop = self.s[-1]\n",
    "\t\tif top < self.min:\n",
    "\t\t\tself.min = 2*self.min - top\n",
    "\t\tself.s.pop()\n",
    "\n",
    "\t# Returns the minimum element from the stack in constant time\n",
    "\tdef getMin(self):\n",
    "\t\treturn self.min\n",
    "\n",
    "\n",
    "if __name__ == '__main__':\n",
    "\n",
    "\ts = MinStack()\n",
    "\n",
    "\ts.push(6)\n",
    "\tprint(s.getMin())\n",
    "\n",
    "\ts.push(7)\n",
    "\tprint(s.getMin())\n",
    "\n",
    "\ts.push(5)\n",
    "\tprint(s.getMin())\n",
    "\n",
    "\ts.push(3)\n",
    "\tprint(s.getMin())\n",
    "\n",
    "\ts.pop()\n",
    "\tprint(s.getMin())\n",
    "\n",
    "\ts.pop()\n",
    "\tprint(s.getMin())\n"
   ]
  },
  {
   "cell_type": "code",
   "execution_count": null,
   "id": "3394c80d",
   "metadata": {},
   "outputs": [],
   "source": []
  }
 ],
 "metadata": {
  "kernelspec": {
   "display_name": "Python 3 (ipykernel)",
   "language": "python",
   "name": "python3"
  },
  "language_info": {
   "codemirror_mode": {
    "name": "ipython",
    "version": 3
   },
   "file_extension": ".py",
   "mimetype": "text/x-python",
   "name": "python",
   "nbconvert_exporter": "python",
   "pygments_lexer": "ipython3",
   "version": "3.10.2"
  }
 },
 "nbformat": 4,
 "nbformat_minor": 5
}
