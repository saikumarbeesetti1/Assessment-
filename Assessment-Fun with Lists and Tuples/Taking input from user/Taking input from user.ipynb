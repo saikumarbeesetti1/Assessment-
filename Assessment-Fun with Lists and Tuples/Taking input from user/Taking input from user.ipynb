{
 "cells": [
  {
   "cell_type": "code",
   "execution_count": 1,
   "id": "59c7311f",
   "metadata": {},
   "outputs": [
    {
     "name": "stdout",
     "output_type": "stream",
     "text": [
      "Enter a input to create a list of tuple(Note: input should be a integer): 5\n",
      "Enter a first element : 2\n",
      "Enter a second element: 5\n",
      "Enter a first element : 1\n",
      "Enter a second element: 2\n",
      "Enter a first element : 4\n",
      "Enter a second element: 4\n",
      "Enter a first element : 2\n",
      "Enter a second element: 3\n",
      "Enter a first element : 2\n",
      "Enter a second element: 1\n",
      "List input has been given by you is :  [(2, 5), (1, 2), (4, 4), (2, 3), (2, 1)]\n",
      "List sorted in increasing order by the last element :  [(2, 1), (1, 2), (2, 3), (4, 4), (2, 5)]\n"
     ]
    }
   ],
   "source": [
    "l = []\n",
    "for value in range(int(input(\"Enter a input to create a list of tuple(Note: input should be a integer): \"))):\n",
    "    num1,num2 = int(input(\"Enter a first element : \")),int(input(\"Enter a second element: \"))\n",
    "    l.append((num1,num2))\n",
    "print(\"List input has been given by you is : \",l) \n",
    "\n",
    "\n",
    "list=l\n",
    "def Last_Element(Element_1):\n",
    "    return Element_1[-1]\n",
    "print(\"List sorted in increasing order by the last element : \",sorted(list,key=Last_Element))"
   ]
  },
  {
   "cell_type": "code",
   "execution_count": null,
   "id": "28dd8437",
   "metadata": {},
   "outputs": [],
   "source": []
  }
 ],
 "metadata": {
  "kernelspec": {
   "display_name": "Python 3 (ipykernel)",
   "language": "python",
   "name": "python3"
  },
  "language_info": {
   "codemirror_mode": {
    "name": "ipython",
    "version": 3
   },
   "file_extension": ".py",
   "mimetype": "text/x-python",
   "name": "python",
   "nbconvert_exporter": "python",
   "pygments_lexer": "ipython3",
   "version": "3.10.2"
  }
 },
 "nbformat": 4,
 "nbformat_minor": 5
}
